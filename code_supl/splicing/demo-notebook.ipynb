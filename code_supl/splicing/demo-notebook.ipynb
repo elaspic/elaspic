{
 "metadata": {
  "name": "demo-notebook"
 }, 
 "nbformat": 2, 
 "worksheets": [
  {
   "cells": [
    {
     "cell_type": "code", 
     "collapsed": false, 
     "input": [
      "import numpy as np", 
      "import pandas as pd", 
      "", 
      "import cPickle as pickle", 
      "", 
      "%pylab inline"
     ], 
     "language": "python", 
     "outputs": [
      {
       "output_type": "stream", 
       "stream": "stdout", 
       "text": [
        "", 
        "Welcome to pylab, a matplotlib-based Python environment [backend: module://IPython.zmq.pylab.backend_inline].", 
        "For more information, type 'help(pylab)'."
       ]
      }
     ], 
     "prompt_number": 50
    }, 
    {
     "cell_type": "code", 
     "collapsed": false, 
     "input": [
      "handle = open('splicing_interactions_df.pickle', 'r')", 
      "splicing_df = pickle.load(handle)", 
      "handle.close()", 
      "", 
      "handle = open('splicing_interactions_nr_df.pickle', 'r')", 
      "splicing_nr_df = pickle.load(handle)", 
      "handle.close()"
     ], 
     "language": "python", 
     "outputs": [], 
     "prompt_number": 51
    }, 
    {
     "cell_type": "code", 
     "collapsed": false, 
     "input": [
      "#splicing_df[(splicing_df['mifreq'] > 0)]['mifreq'].hist()"
     ], 
     "language": "python", 
     "outputs": [], 
     "prompt_number": 52
    }, 
    {
     "cell_type": "code", 
     "collapsed": false, 
     "input": [
      "plt.hist(splicing_df[(splicing_df['mifreq'] > 0)]['mifreq'])", 
      "fig = plt.gcf()"
     ], 
     "language": "python", 
     "outputs": [], 
     "prompt_number": 53
    }, 
    {
     "cell_type": "code", 
     "collapsed": true, 
     "input": [
      "reset"
     ], 
     "language": "python", 
     "outputs": [], 
     "prompt_number": 54
    }, 
    {
     "cell_type": "code", 
     "collapsed": true, 
     "input": [], 
     "language": "python", 
     "outputs": []
    }
   ]
  }
 ]
}